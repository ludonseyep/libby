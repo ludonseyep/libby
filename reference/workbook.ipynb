{
 "cells": [
  {
   "cell_type": "code",
   "execution_count": 1,
   "metadata": {},
   "outputs": [
    {
     "name": "stdout",
     "output_type": "stream",
     "text": [
      " \n",
      "this is on one line\n",
      "this is on another\n",
      "fun times\n",
      "\n"
     ]
    }
   ],
   "source": [
    "test = \"\"\" \n",
    "this is on one line\n",
    "this is on another\n",
    "fun times\n",
    "\"\"\"\n",
    "\n",
    "print(test)"
   ]
  }
 ],
 "metadata": {
  "kernelspec": {
   "display_name": "Python 3.10.7 ('venv': venv)",
   "language": "python",
   "name": "python3"
  },
  "language_info": {
   "codemirror_mode": {
    "name": "ipython",
    "version": 3
   },
   "file_extension": ".py",
   "mimetype": "text/x-python",
   "name": "python",
   "nbconvert_exporter": "python",
   "pygments_lexer": "ipython3",
   "version": "3.10.7"
  },
  "orig_nbformat": 4,
  "vscode": {
   "interpreter": {
    "hash": "882341809aa25d3dbe3681e19987c2075dd084b0f93b47b41c7ed1d7e0942f14"
   }
  }
 },
 "nbformat": 4,
 "nbformat_minor": 2
}
